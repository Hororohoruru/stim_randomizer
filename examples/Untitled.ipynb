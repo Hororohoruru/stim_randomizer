{
 "cells": [
  {
   "cell_type": "markdown",
   "metadata": {},
   "source": [
    "## Full pipeline with stim_randomizer\n",
    "\n",
    "In this notebook we will go step by step as how to divide the stimuli we have for our hipotheticall experiment. Let's go over the stim first (located in the folder 'example_stim'):\n",
    "\n",
    "* Our fictional experiment will consist of localizing the brain activation areas for different types of sounds. For that, we have:\n",
    "    * 288 sound files (they are .txt but use your imagination, they're empty anyway)\n",
    "    * There are six categories to the files: animals, meme, music, nature, tools, and voice\n",
    "    \n",
    "\n",
    "* We will scan our subjects twice, and each session will consist of 6 runs of the same experiment. We don't want to use the same stimuli to avoid confounds due to familiarity, so we will divide the stimuli in the following way:\n",
    "    * There will be 4 sets of stim, with different files each\n",
    "    * Each set will have three different prerandomizations, that will be used across all participants\n",
    "    * We will run the sets 1, 2, 3, 4, 1, 2 for the first session and 1, 2, 3, 4, 3, 4 for the second\n",
    "        * Each time we run a set, it will be with a different prerandomization"
   ]
  },
  {
   "cell_type": "code",
   "execution_count": 6,
   "metadata": {},
   "outputs": [],
   "source": [
    "import os\n",
    "\n",
    "from stim_randomizer.core import ExpStim, ExpSets, ExPrerands"
   ]
  },
  {
   "cell_type": "markdown",
   "metadata": {},
   "source": [
    "We have three objects in our module, the first one being ExpStim. This object will hold the information about the files, and will call the other two objects, so no need to call those directly."
   ]
  },
  {
   "cell_type": "code",
   "execution_count": 7,
   "metadata": {},
   "outputs": [],
   "source": [
    "path_to_stim = os.path.join(os.getcwd(),\n",
    "                           'example_stiim/')\n",
    "\n",
    "experiment = ExpStim(path_to_stim)"
   ]
  },
  {
   "cell_type": "markdown",
   "metadata": {},
   "source": [
    "So, that's it. Now, the object has everything it needs to work. We provide the path, and it automatically scans the categories for us, as long as the files are named in a [category]_[number].whatever fashion. If the files are named differently, the program won't work properly. We can see it here:"
   ]
  },
  {
   "cell_type": "code",
   "execution_count": 8,
   "metadata": {},
   "outputs": [
    {
     "name": "stdout",
     "output_type": "stream",
     "text": [
      "/home/juan/gitrepos/stim_randomizer/examples/example_stiim/\n",
      "['tools', 'voice', 'memes', 'animal', 'nature', 'music']\n"
     ]
    }
   ],
   "source": [
    "print(experiment.path)\n",
    "print(experiment.categories)"
   ]
  },
  {
   "cell_type": "markdown",
   "metadata": {},
   "source": [
    "The class ExpStim has two other attributes: subsets and prerands. They're set to None by default, and that indicates that no subsets or prerands have been created. This is important because you might want to create both, but sometimes you will just want to randomize your stim without creating subsets. Let's create those subsets!"
   ]
  },
  {
   "cell_type": "code",
   "execution_count": 9,
   "metadata": {},
   "outputs": [],
   "source": [
    "experiment.request_subsets(4, dir_type='parent')"
   ]
  },
  {
   "cell_type": "markdown",
   "metadata": {},
   "source": [
    "And that's it! After running the line above, you should find a new 'subsets' folder, which contains 4 .tsv files with the divided stimuli in four different groups. Oh, also, each subset will always have the same number of files for each category. If the number of files does not allow for this, the program will complain about it! Also, subset creation without categories is not currently supported.\n",
    "\n",
    "Also, the dir_type argument is 'parent' by default, this makes the method create the 'subsets folder' in the parent folder relative to where the files are. If you set it to 'child', the folder will be created in the same path where the files are. Same goes for the prerandomizations, that we will be doing next."
   ]
  },
  {
   "cell_type": "code",
   "execution_count": 10,
   "metadata": {},
   "outputs": [],
   "source": [
    "experiment.request_prerands(3, method='pseudo_con', dir_type='parent')"
   ]
  },
  {
   "cell_type": "code",
   "execution_count": null,
   "metadata": {},
   "outputs": [],
   "source": []
  }
 ],
 "metadata": {
  "kernelspec": {
   "display_name": "Python 3",
   "language": "python",
   "name": "python3"
  },
  "language_info": {
   "codemirror_mode": {
    "name": "ipython",
    "version": 3
   },
   "file_extension": ".py",
   "mimetype": "text/x-python",
   "name": "python",
   "nbconvert_exporter": "python",
   "pygments_lexer": "ipython3",
   "version": "3.6.8"
  }
 },
 "nbformat": 4,
 "nbformat_minor": 2
}
